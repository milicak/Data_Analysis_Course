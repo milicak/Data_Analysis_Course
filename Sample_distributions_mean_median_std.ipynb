{
  "nbformat": 4,
  "nbformat_minor": 0,
  "metadata": {
    "colab": {
      "provenance": [],
      "authorship_tag": "ABX9TyNtI/8R2mVmojGqJR7cjr9n",
      "include_colab_link": true
    },
    "kernelspec": {
      "name": "python3",
      "display_name": "Python 3"
    },
    "language_info": {
      "name": "python"
    }
  },
  "cells": [
    {
      "cell_type": "markdown",
      "metadata": {
        "id": "view-in-github",
        "colab_type": "text"
      },
      "source": [
        "<a href=\"https://colab.research.google.com/github/milicak/Data_Analysis_Course/blob/main/Sample_distributions_mean_median_std.ipynb\" target=\"_parent\"><img src=\"https://colab.research.google.com/assets/colab-badge.svg\" alt=\"Open In Colab\"/></a>"
      ]
    },
    {
      "cell_type": "code",
      "execution_count": 1,
      "metadata": {
        "id": "3PPCyOUFre2L"
      },
      "outputs": [],
      "source": [
        "# Sample Distributions"
      ]
    },
    {
      "cell_type": "code",
      "source": [
        "import numpy as np\n",
        "%matplotlib inline\n",
        "import matplotlib.pyplot as plt"
      ],
      "metadata": {
        "id": "wJLZE9lHr4_D"
      },
      "execution_count": 24,
      "outputs": []
    },
    {
      "cell_type": "code",
      "source": [
        "x = np.array([1,4.1,3,2,6,5.2,7])\n",
        "x"
      ],
      "metadata": {
        "colab": {
          "base_uri": "https://localhost:8080/"
        },
        "id": "xvTl8oXMrleR",
        "outputId": "f7ccb93a-0477-48a4-abd6-7072051daa80"
      },
      "execution_count": 5,
      "outputs": [
        {
          "output_type": "execute_result",
          "data": {
            "text/plain": [
              "array([1. , 4.1, 3. , 2. , 6. , 5.2, 7. ])"
            ]
          },
          "metadata": {},
          "execution_count": 5
        }
      ]
    },
    {
      "cell_type": "code",
      "source": [
        "%%latex\n",
        "\\bar{x} = \\frac{\\sum_{i=1}^{n}x_i}{n}"
      ],
      "metadata": {
        "colab": {
          "base_uri": "https://localhost:8080/",
          "height": 41
        },
        "id": "1JeqiXKqsJN8",
        "outputId": "26c3e5c1-8c68-4536-8b2d-832fe40d6399"
      },
      "execution_count": 14,
      "outputs": [
        {
          "output_type": "display_data",
          "data": {
            "text/plain": [
              "<IPython.core.display.Latex object>"
            ],
            "text/latex": "\\bar{x} = \\frac{\\sum_{i=1}^{n}x_i}{n}\n"
          },
          "metadata": {}
        }
      ]
    },
    {
      "cell_type": "code",
      "source": [
        "# mean of the array x\n",
        "xmean = np.sum(x)/len(x)\n",
        "xmean"
      ],
      "metadata": {
        "colab": {
          "base_uri": "https://localhost:8080/"
        },
        "id": "B_a8K_67r_dr",
        "outputId": "51b1c639-9b42-4fe7-fe82-1e80593b5b35"
      },
      "execution_count": 7,
      "outputs": [
        {
          "output_type": "execute_result",
          "data": {
            "text/plain": [
              "4.042857142857143"
            ]
          },
          "metadata": {},
          "execution_count": 7
        }
      ]
    },
    {
      "cell_type": "code",
      "source": [
        "# mean of the array x\n",
        "np.mean(x)"
      ],
      "metadata": {
        "colab": {
          "base_uri": "https://localhost:8080/"
        },
        "id": "Pu5GeqS8r3ka",
        "outputId": "d12a7a74-de9b-4571-a3d9-44e2ab4d9041"
      },
      "execution_count": 6,
      "outputs": [
        {
          "output_type": "execute_result",
          "data": {
            "text/plain": [
              "4.042857142857143"
            ]
          },
          "metadata": {},
          "execution_count": 6
        }
      ]
    },
    {
      "cell_type": "code",
      "source": [
        "# median of the array x\n",
        "np.median(x)"
      ],
      "metadata": {
        "colab": {
          "base_uri": "https://localhost:8080/"
        },
        "id": "YNiVlDMosGWK",
        "outputId": "7b6b55e6-bd15-4b99-e138-15168bb02a3c"
      },
      "execution_count": 15,
      "outputs": [
        {
          "output_type": "execute_result",
          "data": {
            "text/plain": [
              "4.1"
            ]
          },
          "metadata": {},
          "execution_count": 15
        }
      ]
    },
    {
      "cell_type": "code",
      "source": [
        "# The median of an array of size n is defined as the middle element\n",
        "# when n is odd and the average of the middle two elements when n is even.\n",
        "np.sort(x)"
      ],
      "metadata": {
        "colab": {
          "base_uri": "https://localhost:8080/"
        },
        "id": "-3BCuG4ZtFKH",
        "outputId": "ebcd84a4-ce40-43c3-a35a-d1fc9ee75157"
      },
      "execution_count": 16,
      "outputs": [
        {
          "output_type": "execute_result",
          "data": {
            "text/plain": [
              "array([1. , 2. , 3. , 4.1, 5.2, 6. , 7. ])"
            ]
          },
          "metadata": {},
          "execution_count": 16
        }
      ]
    },
    {
      "cell_type": "code",
      "source": [
        "def findMedian(arr):\n",
        "    n = len(arr)\n",
        "\n",
        "    # First we sort the array\n",
        "    arr.sort()\n",
        "\n",
        "    # check for even case\n",
        "    if n % 2 != 0:\n",
        "        return arr[n // 2]\n",
        "\n",
        "    return (arr[(n - 1) // 2] + arr[n // 2]) / 2.0"
      ],
      "metadata": {
        "id": "0VR-vyZVtZZP"
      },
      "execution_count": 17,
      "outputs": []
    },
    {
      "cell_type": "code",
      "source": [
        "xmedian = findMedian(x)\n",
        "xmedian"
      ],
      "metadata": {
        "colab": {
          "base_uri": "https://localhost:8080/"
        },
        "id": "i-q_esFttkxK",
        "outputId": "aa776777-a1ad-48bf-880e-31a29a25d5e2"
      },
      "execution_count": 18,
      "outputs": [
        {
          "output_type": "execute_result",
          "data": {
            "text/plain": [
              "4.1"
            ]
          },
          "metadata": {},
          "execution_count": 18
        }
      ]
    },
    {
      "cell_type": "code",
      "source": [
        "7 // 2"
      ],
      "metadata": {
        "colab": {
          "base_uri": "https://localhost:8080/"
        },
        "id": "c0RQWHZUtpjA",
        "outputId": "578036b3-33a8-476a-b558-2bea1b98b96e"
      },
      "execution_count": 19,
      "outputs": [
        {
          "output_type": "execute_result",
          "data": {
            "text/plain": [
              "3"
            ]
          },
          "metadata": {},
          "execution_count": 19
        }
      ]
    },
    {
      "cell_type": "code",
      "source": [
        "%%latex\n",
        "s = \\sqrt{\\frac{\\sum_{i=1}^{n}(x_i - \\bar{x})^2}{n-1}}"
      ],
      "metadata": {
        "colab": {
          "base_uri": "https://localhost:8080/",
          "height": 48
        },
        "id": "kGxpHKjUuPsN",
        "outputId": "2528092e-f178-46ad-de36-d2cfba8f457f"
      },
      "execution_count": 22,
      "outputs": [
        {
          "output_type": "display_data",
          "data": {
            "text/plain": [
              "<IPython.core.display.Latex object>"
            ],
            "text/latex": "s = \\sqrt{\\frac{\\sum_{i=1}^{n}(x_i - \\bar{x})^2}{n-1}}\n"
          },
          "metadata": {}
        }
      ]
    },
    {
      "cell_type": "code",
      "source": [
        "# standard deviation\n",
        "xstd = np.sqrt(np.sum((x - xmean)**2)/len(x))\n",
        "xstd"
      ],
      "metadata": {
        "colab": {
          "base_uri": "https://localhost:8080/"
        },
        "id": "sofB1Fntt2Bg",
        "outputId": "32224068-f3dc-4ee1-e642-b90431d18b40"
      },
      "execution_count": 20,
      "outputs": [
        {
          "output_type": "execute_result",
          "data": {
            "text/plain": [
              "2.0155517804293286"
            ]
          },
          "metadata": {},
          "execution_count": 20
        }
      ]
    },
    {
      "cell_type": "code",
      "source": [
        "np.std(x)"
      ],
      "metadata": {
        "colab": {
          "base_uri": "https://localhost:8080/"
        },
        "id": "yG0cmVtnuLN0",
        "outputId": "deb704cb-4494-4711-c992-54d0498d2cd2"
      },
      "execution_count": 21,
      "outputs": [
        {
          "output_type": "execute_result",
          "data": {
            "text/plain": [
              "2.0155517804293286"
            ]
          },
          "metadata": {},
          "execution_count": 21
        }
      ]
    },
    {
      "cell_type": "code",
      "source": [
        "def uniform_pdf_disc(x, a, b):\n",
        "    return np.where((x >= a) & (x <= b), 1 / (b - a+1), 0)"
      ],
      "metadata": {
        "id": "miHNKA761_Mm"
      },
      "execution_count": 29,
      "outputs": []
    },
    {
      "cell_type": "code",
      "source": [
        "x = np.array([1,2,3,4,5,6])\n",
        "y = uniform_pdf_disc(x, 1, 6)\n",
        "y"
      ],
      "metadata": {
        "colab": {
          "base_uri": "https://localhost:8080/"
        },
        "id": "7ZNoMbfi2AkW",
        "outputId": "6ce5a8ec-8165-4cfe-f5d5-66b390d9edd7"
      },
      "execution_count": 33,
      "outputs": [
        {
          "output_type": "execute_result",
          "data": {
            "text/plain": [
              "array([0.16666667, 0.16666667, 0.16666667, 0.16666667, 0.16666667,\n",
              "       0.16666667])"
            ]
          },
          "metadata": {},
          "execution_count": 33
        }
      ]
    },
    {
      "cell_type": "code",
      "source": [
        "plt.bar(x,y)"
      ],
      "metadata": {
        "colab": {
          "base_uri": "https://localhost:8080/",
          "height": 447
        },
        "id": "f6I_AW_i4nrM",
        "outputId": "22625ef7-32b3-4555-fc1d-a8db00f643e6"
      },
      "execution_count": 35,
      "outputs": [
        {
          "output_type": "execute_result",
          "data": {
            "text/plain": [
              "<BarContainer object of 6 artists>"
            ]
          },
          "metadata": {},
          "execution_count": 35
        },
        {
          "output_type": "display_data",
          "data": {
            "text/plain": [
              "<Figure size 640x480 with 1 Axes>"
            ],
            "image/png": "[encoded data removed]"
          },
          "metadata": {}
        }
      ]
    },
    {
      "cell_type": "code",
      "source": [
        "plt.plot(x,1/len(x)*x,'-*')"
      ],
      "metadata": {
        "colab": {
          "base_uri": "https://localhost:8080/",
          "height": 447
        },
        "id": "70js1u7D5M3U",
        "outputId": "b0045d3f-b2c2-401b-97b4-4e56abd26ed6"
      },
      "execution_count": 36,
      "outputs": [
        {
          "output_type": "execute_result",
          "data": {
            "text/plain": [
              "[<matplotlib.lines.Line2D at 0x792db90d7f10>]"
            ]
          },
          "metadata": {},
          "execution_count": 36
        },
        {
          "output_type": "display_data",
          "data": {
            "text/plain": [
              "<Figure size 640x480 with 1 Axes>"
            ],
            "image/png": "[encoded data removed]"
          },
          "metadata": {}
        }
      ]
    },
    {
      "cell_type": "code",
      "source": [
        "# prompt: unifort distrubution dice pdf\n",
        "\n",
        "import numpy as np\n",
        "import matplotlib.pyplot as plt\n",
        "from scipy.stats import uniform\n",
        "\n",
        "# Define the parameters of the uniform distribution\n",
        "a = 1  # Lower bound\n",
        "b = 6  # Upper bound\n",
        "\n",
        "# Generate random samples from the uniform distribution\n",
        "samples = np.random.uniform(a, b, size=1000)\n",
        "\n",
        "# Create a histogram of the samples\n",
        "plt.hist(samples, bins=10, density=True, alpha=0.6, color='g', label='Simulated')\n",
        "\n",
        "# Create the theoretical probability density function (PDF)\n",
        "x = np.linspace(a, b, 100)\n",
        "pdf = uniform.pdf(x, loc=a, scale=b-a)\n",
        "plt.plot(x, pdf, 'r-', lw=2, label='Theoretical PDF')\n",
        "\n",
        "plt.xlabel('Value')\n",
        "plt.ylabel('Probability Density')\n",
        "plt.title('Uniform Distribution (Dice Roll)')\n",
        "plt.legend()\n",
        "plt.show()\n"
      ],
      "metadata": {
        "colab": {
          "base_uri": "https://localhost:8080/",
          "height": 472
        },
        "id": "GyIlyUqIuMvu",
        "outputId": "01363af5-51f9-4337-e933-d944e846927f"
      },
      "execution_count": 25,
      "outputs": [
        {
          "output_type": "display_data",
          "data": {
            "text/plain": [
              "<Figure size 640x480 with 1 Axes>"
            ],
            "image/png": "[encoded data removed]"
          },
          "metadata": {}
        }
      ]
    },
    {
      "cell_type": "code",
      "source": [
        "# Binomial Distribution\n",
        "from scipy.stats import binom\n",
        "\n",
        "n = 21\n",
        "p = 0.5\n",
        "\n",
        "# Define the binomial distribution with n trials and probability p of success\n",
        "binom_dist = binom(n, p)\n",
        "\n",
        "# Calculate the probability of getting an even number of heads (0, 2, 4, ..., 20)\n",
        "even_probs = binom_dist.pmf(range(0, 22, 2))\n",
        "\n",
        "# Print the probability of getting each even number of heads\n",
        "for i, prob in enumerate(even_probs):\n",
        "    print(\"The probability of getting {} heads in 21 flips is {}\".format(2*i,prob))\n",
        "\n",
        "# Calculate the total\n",
        "total_prob = sum(even_probs)\n",
        "print(\"Total probability of getting even number of heads is {}\".format(total_prob))"
      ],
      "metadata": {
        "colab": {
          "base_uri": "https://localhost:8080/"
        },
        "id": "9Pn8z7vA1215",
        "outputId": "c259916e-b56e-4cb7-8e2d-9bc7097ff526"
      },
      "execution_count": 37,
      "outputs": [
        {
          "output_type": "stream",
          "name": "stdout",
          "text": [
            "The probability of getting 0 heads in 21 flips is 4.768371582031256e-07\n",
            "The probability of getting 2 heads in 21 flips is 0.0001001358032226562\n",
            "The probability of getting 4 heads in 21 flips is 0.002853870391845703\n",
            "The probability of getting 6 heads in 21 flips is 0.025875091552734385\n",
            "The probability of getting 8 heads in 21 flips is 0.09703159332275395\n",
            "The probability of getting 10 heads in 21 flips is 0.16818809509277355\n",
            "The probability of getting 12 heads in 21 flips is 0.14015674591064464\n",
            "The probability of getting 14 heads in 21 flips is 0.055446624755859236\n",
            "The probability of getting 16 heads in 21 flips is 0.009703159332275378\n",
            "The probability of getting 18 heads in 21 flips is 0.0006341934204101561\n",
            "The probability of getting 20 heads in 21 flips is 1.0013580322265633e-05\n",
            "Total probability of getting even number of heads is 0.5000000000000001\n"
          ]
        }
      ]
    },
    {
      "cell_type": "code",
      "source": [
        "plt.bar(range(0, 22, 2),even_probs)"
      ],
      "metadata": {
        "colab": {
          "base_uri": "https://localhost:8080/",
          "height": 447
        },
        "id": "aM8_iVnO-kmQ",
        "outputId": "eadd4cd0-dd55-4dc0-898a-25d4dd3185a7"
      },
      "execution_count": 40,
      "outputs": [
        {
          "output_type": "execute_result",
          "data": {
            "text/plain": [
              "<BarContainer object of 11 artists>"
            ]
          },
          "metadata": {},
          "execution_count": 40
        },
        {
          "output_type": "display_data",
          "data": {
            "text/plain": [
              "<Figure size 640x480 with 1 Axes>"
            ],
            "image/png": "[encoded data removed]"
          },
          "metadata": {}
        }
      ]
    },
    {
      "cell_type": "code",
      "source": [
        "binom_dist.pmf(1)"
      ],
      "metadata": {
        "colab": {
          "base_uri": "https://localhost:8080/"
        },
        "id": "1jP1QNdr-onl",
        "outputId": "3f43c710-a1c5-4a1e-a3a3-5bf6f59f0401"
      },
      "execution_count": 44,
      "outputs": [
        {
          "output_type": "execute_result",
          "data": {
            "text/plain": [
              "1.0013580322265635e-05"
            ]
          },
          "metadata": {},
          "execution_count": 44
        }
      ]
    },
    {
      "cell_type": "code",
      "source": [
        "n = 2001\n",
        "p = 0.5\n",
        "# Define the binomial distribution with n trials and probability p of success\n",
        "binom_dist = binom(n, p)\n",
        "# Calculate the probability of getting an even number of heads (0, 2, 4, ..., 20)\n",
        "even_probs = binom_dist.pmf(range(0, n+1, 2))\n",
        "plt.bar(range(0, n+1, 2),even_probs)"
      ],
      "metadata": {
        "colab": {
          "base_uri": "https://localhost:8080/",
          "height": 447
        },
        "id": "Q4DHLpQ5-6Vf",
        "outputId": "da083ec5-6ecf-4f38-df9b-7f7cf069eda9"
      },
      "execution_count": 46,
      "outputs": [
        {
          "output_type": "execute_result",
          "data": {
            "text/plain": [
              "<BarContainer object of 1001 artists>"
            ]
          },
          "metadata": {},
          "execution_count": 46
        },
        {
          "output_type": "display_data",
          "data": {
            "text/plain": [
              "<Figure size 640x480 with 1 Axes>"
            ],
            "image/png": "[encoded data removed]"
          },
          "metadata": {}
        }
      ]
    },
    {
      "cell_type": "code",
      "source": [],
      "metadata": {
        "id": "TnYa2zrj_86U"
      },
      "execution_count": null,
      "outputs": []
    }
  ]
}